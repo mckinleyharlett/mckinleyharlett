{
 "cells": [
  {
   "cell_type": "markdown",
   "id": "5b14a71e",
   "metadata": {},
   "source": [
    "# Creating my own Chatbot"
   ]
  },
  {
   "cell_type": "code",
   "execution_count": 3,
   "id": "727309f2",
   "metadata": {},
   "outputs": [],
   "source": [
    "from chatterbot import ChatBot \n",
    "from chatterbot.trainers import ListTrainer"
   ]
  },
  {
   "cell_type": "code",
   "execution_count": 4,
   "id": "75e07dcf",
   "metadata": {},
   "outputs": [
    {
     "name": "stderr",
     "output_type": "stream",
     "text": [
      "[nltk_data] Downloading package averaged_perceptron_tagger to\n",
      "[nltk_data]     /Users/mckinleyharlett/nltk_data...\n",
      "[nltk_data]   Package averaged_perceptron_tagger is already up-to-\n",
      "[nltk_data]       date!\n",
      "[nltk_data] Downloading package punkt to\n",
      "[nltk_data]     /Users/mckinleyharlett/nltk_data...\n",
      "[nltk_data]   Package punkt is already up-to-date!\n",
      "[nltk_data] Downloading package stopwords to\n",
      "[nltk_data]     /Users/mckinleyharlett/nltk_data...\n",
      "[nltk_data]   Package stopwords is already up-to-date!\n",
      "[nltk_data] Downloading package wordnet to\n",
      "[nltk_data]     /Users/mckinleyharlett/nltk_data...\n",
      "[nltk_data]   Unzipping corpora/wordnet.zip.\n"
     ]
    }
   ],
   "source": [
    "clint = ChatBot(name='Clint', read_only=True,\n",
    "               logic_adapters=['chatterbot.logic.MathematicalEvaluation', 'chatterbot.logic.BestMatch'])"
   ]
  },
  {
   "cell_type": "code",
   "execution_count": 6,
   "id": "7fa595bb",
   "metadata": {},
   "outputs": [],
   "source": [
    "small_talk = ['hello!',\n",
    "             'hi!',\n",
    "             'how do you do?',\n",
    "             'how are you?',\n",
    "             'i\\'m good',\n",
    "             'that is good to hear!'\n",
    "             'i\\'m okay, how about you?',\n",
    "             'what is your name?',\n",
    "             'Clint! Please chose from the following statements. About the Company. Meet the leaders. Our Companies. How we can help your company. Contact. Other.'\n",
    "             ]\n",
    "question1 = ['About the Company',\n",
    "             'OnPoint Group partners with leading Manufacturers, Distributors and Retailers to improve safety, uptime and total cost of ownership in their facility and fleet maintenance programs. You can find out more here: https://onpointgroup.com/about-us/']\n",
    "\n",
    "question2 = ['Meet the leaders',\n",
    "            'Our CEO is Tom Cox. Our CAO is Kirk Yosick. Our CFO is Chris Davanzo. Our CIO is Kevin Snyder. To learn more about our leadership here: https://onpointgroup.com/about-us/our-leadership/']\n",
    "\n",
    "question3 = ['Our companies',\n",
    "            'Truesource, Miner, TFS, Concentric, and OnPoint Capital. To find out more about our campanies and what we do, go here: https://onpointgroup.com/our-companies/']\n",
    "\n",
    "question4 = ['How can we help your company?',\n",
    "            'Acquisitions are a key component of the OnPoint Group’s growth strategy which makes it extremely important for us to maintain a pipeline of quality businesses that are a good match for the OnPoint family. We are always looking for the opportunity to support and cultivate businesses that are ready to go to the next level and will increase the value we bring to our customers. To find out more please go to the bottom of this page: https://onpointgroup.com/mergers-acquisitions/']\n",
    "\n",
    "question5 = ['Contact',\n",
    "            'You can contact us here: https://onpointgroup.com/contact/']\n",
    "\n",
    "question6 = ['Other', \n",
    "            'If you have any other questions about OnPoint Group, please search our website: https://onpointgroup.com/']"
   ]
  },
  {
   "cell_type": "code",
   "execution_count": 8,
   "id": "b826276c",
   "metadata": {},
   "outputs": [
    {
     "name": "stdout",
     "output_type": "stream",
     "text": [
      "List Trainer: [####################] 100%\n",
      "List Trainer: [####################] 100%\n",
      "List Trainer: [####################] 100%\n",
      "List Trainer: [####################] 100%\n",
      "List Trainer: [####################] 100%\n",
      "List Trainer: [####################] 100%\n",
      "List Trainer: [####################] 100%\n"
     ]
    }
   ],
   "source": [
    "list_trainer = ListTrainer(clint)\n",
    "\n",
    "for item in (small_talk, question1, question2, question3, question4, question5, question6):\n",
    "    list_trainer.train(item)"
   ]
  },
  {
   "cell_type": "code",
   "execution_count": 9,
   "id": "dd1f70ad",
   "metadata": {},
   "outputs": [
    {
     "name": "stderr",
     "output_type": "stream",
     "text": [
      "No value for search_text was available on the provided input\n"
     ]
    },
    {
     "name": "stdout",
     "output_type": "stream",
     "text": [
      "hi!\n"
     ]
    }
   ],
   "source": [
    "print(clint.get_response(\"hello!\"))"
   ]
  },
  {
   "cell_type": "code",
   "execution_count": 12,
   "id": "c5a34211",
   "metadata": {},
   "outputs": [
    {
     "name": "stderr",
     "output_type": "stream",
     "text": [
      "No value for search_text was available on the provided input\n"
     ]
    },
    {
     "name": "stdout",
     "output_type": "stream",
     "text": [
      "i'm good\n"
     ]
    }
   ],
   "source": [
    "print(clint.get_response(\"How are you?\"))"
   ]
  },
  {
   "cell_type": "code",
   "execution_count": 13,
   "id": "9af597b5",
   "metadata": {},
   "outputs": [
    {
     "name": "stderr",
     "output_type": "stream",
     "text": [
      "No value for search_text was available on the provided input\n"
     ]
    },
    {
     "name": "stdout",
     "output_type": "stream",
     "text": [
      "Clint! Please chose from the following statements. About the Company. Meet the leaders. Our Companies. How we can help your company. Contact. Other.\n"
     ]
    }
   ],
   "source": [
    "print(clint.get_response(\"what is your name?\"))"
   ]
  },
  {
   "cell_type": "code",
   "execution_count": 14,
   "id": "bd2e5cf1",
   "metadata": {},
   "outputs": [
    {
     "name": "stderr",
     "output_type": "stream",
     "text": [
      "No value for search_text was available on the provided input\n"
     ]
    },
    {
     "name": "stdout",
     "output_type": "stream",
     "text": [
      "OnPoint Group partners with leading Manufacturers, Distributors and Retailers to improve safety, uptime and total cost of ownership in their facility and fleet maintenance programs. You can find out more here: https://onpointgroup.com/about-us/\n"
     ]
    }
   ],
   "source": [
    "print(clint.get_response(\"About the company\"))"
   ]
  },
  {
   "cell_type": "code",
   "execution_count": 15,
   "id": "a630af8c",
   "metadata": {},
   "outputs": [
    {
     "name": "stderr",
     "output_type": "stream",
     "text": [
      "No value for search_text was available on the provided input\n"
     ]
    },
    {
     "name": "stdout",
     "output_type": "stream",
     "text": [
      "Our CEO is Tom Cox. Our CAO is Kirk Yosick. Our CFO is Chris Davanzo. Our CIO is Kevin Snyder. To learn more about our leadership here: https://onpointgroup.com/about-us/our-leadership/\n"
     ]
    }
   ],
   "source": [
    "print(clint.get_response(\"Meet the leaders\"))"
   ]
  },
  {
   "cell_type": "code",
   "execution_count": 19,
   "id": "2ec1b125",
   "metadata": {},
   "outputs": [
    {
     "name": "stderr",
     "output_type": "stream",
     "text": [
      "No value for search_text was available on the provided input\n"
     ]
    },
    {
     "name": "stdout",
     "output_type": "stream",
     "text": [
      "If you have any other questions about OnPoint Group, please search our website: https://onpointgroup.com/\n"
     ]
    }
   ],
   "source": [
    "print(clint.get_response(\"other\"))"
   ]
  },
  {
   "cell_type": "code",
   "execution_count": 20,
   "id": "d731580e",
   "metadata": {},
   "outputs": [
    {
     "name": "stderr",
     "output_type": "stream",
     "text": [
      "No value for search_text was available on the provided input\n"
     ]
    },
    {
     "name": "stdout",
     "output_type": "stream",
     "text": [
      "You can contact us here: https://onpointgroup.com/contact/\n"
     ]
    }
   ],
   "source": [
    "print(clint.get_response(\"contact\"))"
   ]
  },
  {
   "cell_type": "code",
   "execution_count": 21,
   "id": "445f4014",
   "metadata": {},
   "outputs": [
    {
     "name": "stdout",
     "output_type": "stream",
     "text": [
      "Training ai.yml: [####################] 100%\n",
      "Training botprofile.yml: [####################] 100%\n",
      "Training computers.yml: [####################] 100%\n",
      "Training conversations.yml: [####################] 100%\n",
      "Training emotion.yml: [####################] 100%\n",
      "Training food.yml: [####################] 100%\n",
      "Training gossip.yml: [####################] 100%\n",
      "Training greetings.yml: [####################] 100%\n",
      "Training health.yml: [####################] 100%\n",
      "Training history.yml: [####################] 100%\n",
      "Training humor.yml: [####################] 100%\n",
      "Training literature.yml: [####################] 100%\n",
      "Training money.yml: [####################] 100%\n",
      "Training movies.yml: [####################] 100%\n",
      "Training politics.yml: [####################] 100%\n",
      "Training psychology.yml: [####################] 100%\n",
      "Training science.yml: [####################] 100%\n",
      "Training sports.yml: [####################] 100%\n",
      "Training trivia.yml: [####################] 100%\n"
     ]
    }
   ],
   "source": [
    "from chatterbot.trainers import ChatterBotCorpusTrainer\n",
    "\n",
    "corpus_trainer = ChatterBotCorpusTrainer(clint)\n",
    "corpus_trainer.train('chatterbot.corpus.english')"
   ]
  },
  {
   "cell_type": "code",
   "execution_count": null,
   "id": "4363a0ea",
   "metadata": {},
   "outputs": [],
   "source": []
  }
 ],
 "metadata": {
  "kernelspec": {
   "display_name": "Python 3",
   "language": "python",
   "name": "python3"
  },
  "language_info": {
   "codemirror_mode": {
    "name": "ipython",
    "version": 3
   },
   "file_extension": ".py",
   "mimetype": "text/x-python",
   "name": "python",
   "nbconvert_exporter": "python",
   "pygments_lexer": "ipython3",
   "version": "3.8.5"
  }
 },
 "nbformat": 4,
 "nbformat_minor": 5
}
